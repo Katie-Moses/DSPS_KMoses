{
  "nbformat": 4,
  "nbformat_minor": 0,
  "metadata": {
    "colab": {
      "provenance": [],
      "authorship_tag": "ABX9TyM/vYA0ZZNgNDNNUWly8ga/",
      "include_colab_link": true
    },
    "kernelspec": {
      "name": "python3",
      "display_name": "Python 3"
    },
    "language_info": {
      "name": "python"
    }
  },
  "cells": [
    {
      "cell_type": "markdown",
      "metadata": {
        "id": "view-in-github",
        "colab_type": "text"
      },
      "source": [
        "<a href=\"https://colab.research.google.com/github/Katie-Moses/DSPS_KMoses/blob/main/labs/triptime_ztest.ipynb\" target=\"_parent\"><img src=\"https://colab.research.google.com/assets/colab-badge.svg\" alt=\"Open In Colab\"/></a>"
      ]
    },
    {
      "cell_type": "code",
      "execution_count": 9,
      "metadata": {
        "id": "gAHgDOfbiWSs"
      },
      "outputs": [],
      "source": [
        "import pandas as pd\n",
        "import numpy as np"
      ]
    },
    {
      "cell_type": "code",
      "source": [
        "trips = pd.read_csv(\"https://raw.githubusercontent.com/fedhere/DSPS_FBianco/refs/heads/main/data/triptimes.csv\",sep=r\"\\s+\")"
      ],
      "metadata": {
        "id": "QCrrMhnUijGx"
      },
      "execution_count": 2,
      "outputs": []
    },
    {
      "cell_type": "code",
      "source": [
        "trips.shape"
      ],
      "metadata": {
        "colab": {
          "base_uri": "https://localhost:8080/"
        },
        "id": "PEYmyf7ZituV",
        "outputId": "afc7ddbf-b400-4c7c-a09f-48f7cb4e2e7e"
      },
      "execution_count": 4,
      "outputs": [
        {
          "output_type": "execute_result",
          "data": {
            "text/plain": [
              "(99, 1)"
            ]
          },
          "metadata": {},
          "execution_count": 4
        }
      ]
    },
    {
      "cell_type": "code",
      "source": [
        "trips.rename({\"31.62223931\":\"time\"},axis=1,inplace=True)"
      ],
      "metadata": {
        "id": "vBUTcipmixiC"
      },
      "execution_count": 12,
      "outputs": []
    },
    {
      "cell_type": "code",
      "source": [
        "trips_avg = trips[\"time\"].mean()\n",
        "trips_std = trips[\"time\"].std()\n",
        "z = (trips_avg - 32.3333) / (trips_std / np.sqrt(len(trips[\"time\"])))\n",
        "z"
      ],
      "metadata": {
        "colab": {
          "base_uri": "https://localhost:8080/"
        },
        "id": "Kequ4ApKi3Jb",
        "outputId": "9c291bf9-060d-4cd1-9b2b-37e5c6a5c87e"
      },
      "execution_count": 19,
      "outputs": [
        {
          "output_type": "execute_result",
          "data": {
            "text/plain": [
              "np.float64(3.0005806377553164)"
            ]
          },
          "metadata": {},
          "execution_count": 19
        }
      ]
    },
    {
      "cell_type": "code",
      "source": [],
      "metadata": {
        "id": "lAOyGt4xi-gz"
      },
      "execution_count": null,
      "outputs": []
    }
  ]
}