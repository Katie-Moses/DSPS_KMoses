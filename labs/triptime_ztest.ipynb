{
  "nbformat": 4,
  "nbformat_minor": 0,
  "metadata": {
    "colab": {
      "provenance": [],
      "authorship_tag": "ABX9TyM6sER0Ep6uhZft61ikH9jg",
      "include_colab_link": true
    },
    "kernelspec": {
      "name": "python3",
      "display_name": "Python 3"
    },
    "language_info": {
      "name": "python"
    }
  },
  "cells": [
    {
      "cell_type": "markdown",
      "metadata": {
        "id": "view-in-github",
        "colab_type": "text"
      },
      "source": [
        "<a href=\"https://colab.research.google.com/github/Katie-Moses/DSPS_KMoses/blob/main/labs/triptime_ztest.ipynb\" target=\"_parent\"><img src=\"https://colab.research.google.com/assets/colab-badge.svg\" alt=\"Open In Colab\"/></a>"
      ]
    },
    {
      "cell_type": "code",
      "execution_count": 9,
      "metadata": {
        "id": "gAHgDOfbiWSs"
      },
      "outputs": [],
      "source": [
        "import pandas as pd\n",
        "import numpy as np"
      ]
    },
    {
      "cell_type": "code",
      "source": [
        "trips = pd.read_csv(\"https://raw.githubusercontent.com/fedhere/DSPS_FBianco/refs/heads/main/data/triptimes.csv\",header=None,sep=r\"\\s+\")"
      ],
      "metadata": {
        "id": "QCrrMhnUijGx"
      },
      "execution_count": 36,
      "outputs": []
    },
    {
      "cell_type": "code",
      "source": [
        "trips.shape"
      ],
      "metadata": {
        "colab": {
          "base_uri": "https://localhost:8080/"
        },
        "id": "PEYmyf7ZituV",
        "outputId": "2aa7e175-2b72-4993-e333-5ed63e94ab5b"
      },
      "execution_count": 37,
      "outputs": [
        {
          "output_type": "execute_result",
          "data": {
            "text/plain": [
              "(100, 1)"
            ]
          },
          "metadata": {},
          "execution_count": 37
        }
      ]
    },
    {
      "cell_type": "code",
      "source": [
        "trips.rename({0:\"time\"},axis=1,inplace=True)"
      ],
      "metadata": {
        "id": "vBUTcipmixiC"
      },
      "execution_count": 39,
      "outputs": []
    },
    {
      "cell_type": "code",
      "source": [
        "trips_avg = trips[\"time\"].mean()\n",
        "trips_std = trips[\"time\"].std()\n",
        "z = (trips_avg - 32.3333) / (trips_std / np.sqrt(len(trips[\"time\"])))\n",
        "z"
      ],
      "metadata": {
        "colab": {
          "base_uri": "https://localhost:8080/"
        },
        "id": "Kequ4ApKi3Jb",
        "outputId": "070607e2-b6a3-4456-fc37-53ccb2646997"
      },
      "execution_count": 40,
      "outputs": [
        {
          "output_type": "execute_result",
          "data": {
            "text/plain": [
              "np.float64(2.988339603224748)"
            ]
          },
          "metadata": {},
          "execution_count": 40
        }
      ]
    },
    {
      "cell_type": "code",
      "source": [],
      "metadata": {
        "id": "lAOyGt4xi-gz"
      },
      "execution_count": null,
      "outputs": []
    }
  ]
}