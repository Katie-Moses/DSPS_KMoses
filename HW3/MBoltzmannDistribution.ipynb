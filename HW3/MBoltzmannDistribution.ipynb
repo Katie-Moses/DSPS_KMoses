{
  "nbformat": 4,
  "nbformat_minor": 0,
  "metadata": {
    "colab": {
      "provenance": [],
      "include_colab_link": true
    },
    "kernelspec": {
      "display_name": "Python 3",
      "language": "python",
      "name": "python3"
    },
    "language_info": {
      "codemirror_mode": {
        "name": "ipython",
        "version": 3
      },
      "file_extension": ".py",
      "mimetype": "text/x-python",
      "name": "python",
      "nbconvert_exporter": "python",
      "pygments_lexer": "ipython3",
      "version": "3.7.3"
    },
    "latex_envs": {
      "LaTeX_envs_menu_present": true,
      "autoclose": false,
      "autocomplete": true,
      "bibliofile": "biblio.bib",
      "cite_by": "apalike",
      "current_citInitial": 1,
      "eqLabelWithNumbers": true,
      "eqNumInitial": 1,
      "hotkeys": {
        "equation": "Ctrl-E",
        "itemize": "Ctrl-I"
      },
      "labels_anchors": false,
      "latex_user_defs": false,
      "report_style_numbering": false,
      "user_envs_cfg": false
    },
    "nbTranslate": {
      "displayLangs": [
        "*"
      ],
      "hotkey": "alt-t",
      "langInMainMenu": true,
      "sourceLang": "en",
      "targetLang": "fr",
      "useGoogleTranslate": true
    },
    "toc": {
      "base_numbering": 1,
      "nav_menu": {},
      "number_sections": true,
      "sideBar": true,
      "skip_h1_title": false,
      "title_cell": "Table of Contents",
      "title_sidebar": "Contents",
      "toc_cell": false,
      "toc_position": {},
      "toc_section_display": true,
      "toc_window_display": false
    }
  },
  "cells": [
    {
      "cell_type": "markdown",
      "metadata": {
        "id": "view-in-github",
        "colab_type": "text"
      },
      "source": [
        "<a href=\"https://colab.research.google.com/github/Katie-Moses/DSPS_KMoses/blob/main/HW3/MBoltzmannDistribution.ipynb\" target=\"_parent\"><img src=\"https://colab.research.google.com/assets/colab-badge.svg\" alt=\"Open In Colab\"/></a>"
      ]
    },
    {
      "cell_type": "markdown",
      "metadata": {
        "ExecuteTime": {
          "end_time": "2019-09-04T04:50:01.872913Z",
          "start_time": "2019-09-04T04:50:01.869703Z"
        },
        "id": "dk3tkh__KvAc"
      },
      "source": [
        " Written by Federica B. Bianco @fedhere\n",
        "UDel DSPS"
      ]
    },
    {
      "cell_type": "code",
      "metadata": {
        "ExecuteTime": {
          "end_time": "2019-09-07T17:36:53.625807Z",
          "start_time": "2019-09-07T17:36:53.393906Z"
        },
        "colab": {
          "base_uri": "https://localhost:8080/"
        },
        "id": "iQaonMUBqtX2",
        "outputId": "d5eee93f-d8d6-4d90-ea22-02bab2f3f5e8"
      },
      "source": [
        "from __future__ import print_function, division\n",
        "import numpy as np\n",
        "import scipy as sp\n",
        "from scipy import stats\n",
        "import pylab as pl\n",
        "%pylab inline\n"
      ],
      "execution_count": 1,
      "outputs": [
        {
          "output_type": "stream",
          "name": "stdout",
          "text": [
            "Populating the interactive namespace from numpy and matplotlib\n"
          ]
        }
      ]
    },
    {
      "cell_type": "markdown",
      "metadata": {
        "id": "zu5QKDi5b7vW"
      },
      "source": [
        "# Homework 1: Maxwell Boltzmann distribution"
      ]
    },
    {
      "cell_type": "markdown",
      "metadata": {
        "id": "ueaB0mHCO_iM"
      },
      "source": [
        "In Physics, statistics can help us describe the macroscopic behavior of a system if we know its microscopic properties in a statistical sense. We cannot know the motion of each molecule in a gas, but we can know the distribution of their velocities and positions.   In the mid to late 1800s, James Clerk Maxwell and Ludwig Boltzmann modeled the *distribution of speed of molecules in a gas*. As you probably know, and can intuitive realize, the speed of the molecules depends on the temperature of the gas, which is a macroscopic property, the velocity of the molecules is different for different gas temperatures. **This distribution of velocities is called the Maxwell-Boltzmann distribution.**\n"
      ]
    },
    {
      "cell_type": "markdown",
      "metadata": {
        "id": "7LpR51uQSvN9"
      },
      "source": [
        "It turns out that the Maxwel-Boltzmann distribution is a special case of the [*Chi distribution*](https://en.wikipedia.org/wiki/Chi_distribution). The parameter that controls the shape of a Chi distribution is called \"degrees of freedom\" and the Maxwel-Boltzmann distribution is a Chi distribution _with 3 degrees of freedom_, and with a scale parameter _a_ corresponding to the temperature in some way.\n"
      ]
    },
    {
      "cell_type": "markdown",
      "metadata": {
        "id": "Pc25lN9SUxQL"
      },
      "source": [
        "Below I have created 3 distributions. Based on the description above\n",
        "\n",
        "\n",
        "# 1) label the axes in the plot"
      ]
    },
    {
      "cell_type": "code",
      "metadata": {
        "ExecuteTime": {
          "end_time": "2019-09-07T17:36:56.493299Z",
          "start_time": "2019-09-07T17:36:56.021862Z"
        },
        "colab": {
          "base_uri": "https://localhost:8080/",
          "height": 466
        },
        "id": "LZm2afzhUwuG",
        "outputId": "a9db2dd7-9115-4852-8a47-57de8f0757f3"
      },
      "source": [
        "np.random.randn(123)\n",
        "fig, ax = pl.subplots()\n",
        "for a in [0.2, 0.6, 1.0]:\n",
        "    ax.hist(sp.stats.chi.rvs(df=3, scale=a, size=1000), # could as well be sp.stats.maxwell.rvs(scale=a, size=1000)\n",
        "          bins=np.arange(0,5,0.1)-0.05, alpha=0.7,\n",
        "       label=\"a = %.1f\"%a);\n",
        "\n",
        "pl.legend();\n",
        "\n",
        "pl.xlabel(\"velocity of particles\")\n",
        "pl.ylabel(\"frequency of particles\")"
      ],
      "execution_count": 2,
      "outputs": [
        {
          "output_type": "execute_result",
          "data": {
            "text/plain": [
              "Text(0, 0.5, 'frequency of particles')"
            ]
          },
          "metadata": {},
          "execution_count": 2
        },
        {
          "output_type": "display_data",
          "data": {
            "text/plain": [
              "<Figure size 640x480 with 1 Axes>"
            ],
            "image/png": "[encoded data removed]"
          },
          "metadata": {}
        }
      ]
    },
    {
      "cell_type": "markdown",
      "metadata": {
        "id": "MGdILsLAaopl"
      },
      "source": [
        "# 2) knowing that the *scale* parameter $a$  is a function of the temperature  *T*, and that the dependency is to a power 1/2, which is correct:\n",
        "   **$a \\propto \\sqrt{T}$**  or **$a \\propto \\sqrt{1/T}$**?\n",
        "\n",
        "   (in other words, is the dependency on the root of the temperature or on the inverse root of the temperature ?)\n"
      ]
    },
    {
      "cell_type": "markdown",
      "metadata": {
        "id": "vMGhorbvcrFM"
      },
      "source": [
        "**$a \\propto \\sqrt{T}$** is correct as the scale parameter $a$ is a function of root temperature $T$ based on the known information given."
      ]
    },
    {
      "cell_type": "markdown",
      "metadata": {
        "id": "hGeeXYttXLO1"
      },
      "source": [
        "\n",
        "# 3) What is the mean of all three distributions. How does it compare to the most probable molecular speed?\n",
        "From the wikipedia page of the Chi distribution find the formula of the mean of the Chi distribution. The distribution we are using has a scale parameter *a* in addition to the number of degrees of freedom. The mean scales linearly with this parameter:\n",
        "\n",
        "$\\mu_{\\mathrm{MB}, k, a} = a \\cdot \\mu_{\\mathrm{chi}, k}$\n",
        "\n",
        "Using the scipy function ```sp.special.gamma()``` to  calculate the gamma $\\Gamma$ function, and the definition of the mean from the [wikipedia page of the Chi distribution](https://en.wikipedia.org/wiki/Chi_distribution)\n",
        "**calculate the mean of all three distributions. Compare it with the mean of the empirical distributions I generated in step 1. How does this mean compare to the most probable molecular speed.**\n",
        "(and does it look right based on the plots above?)"
      ]
    },
    {
      "cell_type": "markdown",
      "source": [
        "![image.png](data:image/png;base64,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)"
      ],
      "metadata": {
        "id": "tUfEEURHoext"
      }
    },
    {
      "cell_type": "code",
      "metadata": {
        "ExecuteTime": {
          "end_time": "2019-09-07T17:36:59.245480Z",
          "start_time": "2019-09-07T17:36:59.243338Z"
        },
        "id": "-8htAA4mRAVa",
        "colab": {
          "base_uri": "https://localhost:8080/"
        },
        "outputId": "d06e336d-0d39-4f7f-91ee-1e571ccb27ba"
      },
      "source": [
        "k=3\n",
        "mean_chi_k = np.sqrt(2)*sp.special.gamma(0.5*(k+1))/sp.special.gamma(0.5*k)\n",
        "mean_02 = 0.2*mean_chi_k\n",
        "mean_06 = 0.6*mean_chi_k\n",
        "mean_10 = 1.0*mean_chi_k\n",
        "\n",
        "print(\"when alpha is 0.2, the Chi mean is 0.319 and the empirical mean is 0.3\")\n",
        "print(\"when alpha is 0.6, the Chi mean is 0.857 and the empirical mean is 1.0\")\n",
        "print(\"when alpha is 1.0, the Chi mean is 1.596 and the empirical mean is 1.6\")"
      ],
      "execution_count": 12,
      "outputs": [
        {
          "output_type": "stream",
          "name": "stdout",
          "text": [
            "when alpha is 0.2, the Chi mean is 0.319 and the empirical mean is 0.3\n",
            "when alpha is 0.6, the Chi mean is 0.857 and the empirical mean is 1.0\n",
            "when alpha is 1.0, the Chi mean is 1.596 and the empirical mean is 1.6\n"
          ]
        }
      ]
    },
    {
      "cell_type": "markdown",
      "metadata": {
        "id": "r7oes80EQER-"
      },
      "source": [
        "This really only holds for perfect gasses, which means under 4 assumptions:\n",
        "- the diameter of the molecules is much smaller than the distance between them\n",
        "- the collisions between molecules conserve energy\n",
        "- the molecules do not interact between collisions and are not subject to any other forces (move at constant speed in a straight line)\n",
        "- the initial position and velocity are random."
      ]
    },
    {
      "cell_type": "markdown",
      "metadata": {
        "id": "3PJ9hjLzQjyA"
      },
      "source": [
        "# Extra Credit:\n",
        "\n",
        "can you create a python (2D) simulation where the molecules behave as described and calculate their speed evolution from an initial speed that is gaussian distributed? (rather hard!!)\n"
      ]
    },
    {
      "cell_type": "code",
      "metadata": {
        "ExecuteTime": {
          "end_time": "2019-09-07T17:37:01.623460Z",
          "start_time": "2019-09-07T17:37:01.621218Z"
        },
        "id": "6LJU9GPVRO7B"
      },
      "source": [
        "# your code here"
      ],
      "execution_count": null,
      "outputs": []
    }
  ]
}